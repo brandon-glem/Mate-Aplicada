{
  "nbformat": 4,
  "nbformat_minor": 0,
  "metadata": {
    "colab": {
      "provenance": [],
      "authorship_tag": "ABX9TyNtpkNzWb9En6aU1yLWaOhZ",
      "include_colab_link": true
    },
    "kernelspec": {
      "name": "python3",
      "display_name": "Python 3"
    },
    "language_info": {
      "name": "python"
    }
  },
  "cells": [
    {
      "cell_type": "markdown",
      "metadata": {
        "id": "view-in-github",
        "colab_type": "text"
      },
      "source": [
        "<a href=\"https://colab.research.google.com/github/brandon-glem/Mate-Aplicada/blob/main/Transformaciones.ipynb\" target=\"_parent\"><img src=\"https://colab.research.google.com/assets/colab-badge.svg\" alt=\"Open In Colab\"/></a>"
      ]
    },
    {
      "cell_type": "markdown",
      "source": [
        "Crecion de formulas a usar."
      ],
      "metadata": {
        "id": "RyQFkgj_dOx-"
      }
    },
    {
      "cell_type": "code",
      "execution_count": null,
      "metadata": {
        "id": "kDlcSCNwWIbd"
      },
      "outputs": [],
      "source": [
        "def mostrar_matriz(matriz):\n",
        "    for fila in matriz:\n",
        "        print(fila)\n",
        "\n",
        "def matriz_transicion(base,base_p):\n",
        "    matriz_aumentada = [fila1 + fila2 for fila1, fila2 in zip(base_p,base)]\n",
        "\n",
        "    num_filas = len(matriz_aumentada)\n",
        "    num_columnas = len(matriz_aumentada[0])\n",
        "\n",
        "    for i in range(num_filas):\n",
        "        pivot = matriz_aumentada[i][i]\n",
        "        if pivot == 0:\n",
        "            raise ValueError(\"El pivote no puede ser cero.\")\n",
        "\n",
        "        for j in range(num_columnas):\n",
        "            matriz_aumentada[i][j] /= pivot\n",
        "\n",
        "        for k in range(num_filas):\n",
        "            if k != i:\n",
        "                factor = matriz_aumentada[k][i]\n",
        "                for j in range(num_columnas):\n",
        "                    matriz_aumentada[k][j] -= factor * matriz_aumentada[i][j]\n",
        "\n",
        "    matriz_transicion = [fila[len(fila) // 2:] for fila in matriz_aumentada]\n",
        "\n",
        "    return matriz_transicion\n",
        "\n",
        "def multiplicacion(A, B):\n",
        "    m = len(A)\n",
        "    n = len(A[0])\n",
        "    p = len(B[0])\n",
        "\n",
        "    result = [[0 for _ in range(p)] for _ in range(m)]\n",
        "\n",
        "    for i in range(m):\n",
        "        for j in range(p):\n",
        "            for k in range(n):\n",
        "                result[i][j] += A[i][k] * B[k][j]\n",
        "\n",
        "    return result"
      ]
    },
    {
      "cell_type": "markdown",
      "source": [
        "Pasamos a calcular las matriz de transicion de B' a B y su inversa (de B a B')"
      ],
      "metadata": {
        "id": "DVbDxShEddWK"
      }
    },
    {
      "cell_type": "code",
      "source": [
        "#RESOLUCION DE EJERCICIOS\n",
        "base1 = [\n",
        "    [1, -2],\n",
        "    [3, -2]\n",
        "]\n",
        "base2 = [\n",
        "    [-12, -4],\n",
        "    [0, 4]\n",
        "]\n",
        "\n",
        "a=[\n",
        "    [3, 2],\n",
        "    [0, 4]\n",
        "]\n",
        "\n",
        "#PARTE A.\n",
        "p=matriz_transicion(base2,base1)    #Transicion P\n",
        "p_inv=matriz_transicion(base1,base2)  #Transicion p -1\n",
        "\n",
        "print(\"P =\")\n",
        "mostrar_matriz(p)\n",
        "print(\"P-1 =\")\n",
        "mostrar_matriz(p_inv)"
      ],
      "metadata": {
        "colab": {
          "base_uri": "https://localhost:8080/"
        },
        "id": "s7cTDNkmdtyD",
        "outputId": "54dbc450-70f2-474a-e805-debe6c534214"
      },
      "execution_count": null,
      "outputs": [
        {
          "output_type": "stream",
          "name": "stdout",
          "text": [
            "P =\n",
            "[6.0, 4.0]\n",
            "[9.0, 4.0]\n",
            "P-1 =\n",
            "[-0.3333333333333333, 0.3333333333333333]\n",
            "[0.75, -0.5]\n"
          ]
        }
      ]
    },
    {
      "cell_type": "markdown",
      "source": [
        "Ahora Calculamos la Matriz A' a traves de la multiplicacion de A' = P-1xAxP"
      ],
      "metadata": {
        "id": "piwMjcp9j15B"
      }
    },
    {
      "cell_type": "code",
      "source": [
        "#PARTE B.\n",
        "#Calcular A'\n",
        "a_pri=multiplicacion(multiplicacion(p_inv,a),p)\n",
        "print(\"A' =\")\n",
        "mostrar_matriz(a_pri)"
      ],
      "metadata": {
        "colab": {
          "base_uri": "https://localhost:8080/"
        },
        "id": "xfu3fPQhkEsk",
        "outputId": "12279e7d-0535-44f8-abe3-97bff22a121b"
      },
      "execution_count": null,
      "outputs": [
        {
          "output_type": "stream",
          "name": "stdout",
          "text": [
            "A' =\n",
            "[0.0, -1.3333333333333335]\n",
            "[9.0, 7.0]\n"
          ]
        }
      ]
    },
    {
      "cell_type": "markdown",
      "source": [
        "Calcular la transformacion lineal de la base B prima es decir T[V]B' = A x [V]B'"
      ],
      "metadata": {
        "id": "9K9eP4pckUVU"
      }
    },
    {
      "cell_type": "code",
      "source": [
        "#PARTE C.\n",
        "#Calcular [T(V)]B'\n",
        "v_bprim=[\n",
        "    [-1],\n",
        "    [2]\n",
        "]\n",
        "t_v_bprim=multiplicacion(a_pri,v_bprim)\n",
        "print(\"[T(V)]B' =\")\n",
        "mostrar_matriz(t_v_bprim)"
      ],
      "metadata": {
        "colab": {
          "base_uri": "https://localhost:8080/"
        },
        "id": "yeC24d8opmvp",
        "outputId": "339270cc-0b45-488f-f4dd-6ae8f680a875"
      },
      "execution_count": null,
      "outputs": [
        {
          "output_type": "stream",
          "name": "stdout",
          "text": [
            "[T(V)]B' =\n",
            "[-2.666666666666667]\n",
            "[5.0]\n"
          ]
        }
      ]
    },
    {
      "cell_type": "markdown",
      "source": [
        "Demostracion de Otros Ejercicios:"
      ],
      "metadata": {
        "id": "v83Q0Vruuug-"
      }
    },
    {
      "cell_type": "code",
      "source": [
        "#RESOLUCION DE EJERCICIOS\n",
        "base1 = [\n",
        "    [1, 1, -1],\n",
        "    [1, -1, 1],\n",
        "    [-1, 1, 1]\n",
        "]\n",
        "base2 = [\n",
        "    [1, 0, 0],\n",
        "    [0, 1, 0],\n",
        "    [0, 0, 1]\n",
        "]\n",
        "\n",
        "a=[\n",
        "    [3/2, -1, -1/2],\n",
        "    [-1/2, 2, 1/2],\n",
        "    [1/2, 1, 5/2]\n",
        "]\n",
        "\n",
        "#PARTE A.\n",
        "p=matriz_transicion(base2,base1)    #Transicion P\n",
        "p_inv=matriz_transicion(base1,base2)  #Transicion p -1\n",
        "\n",
        "print(\"P =\")\n",
        "mostrar_matriz(p)\n",
        "print('\\n')\n",
        "print(\"P-1 =\")\n",
        "mostrar_matriz(p_inv)\n",
        "print('\\n')\n",
        "\n",
        "#PARTE B.\n",
        "#Calcular A'\n",
        "a_pri=multiplicacion(multiplicacion(p_inv,a),p)\n",
        "print(\"A' =\")\n",
        "mostrar_matriz(a_pri)\n",
        "print('\\n')\n",
        "\n",
        "#PARTE C.\n",
        "#Calcular [T(V)]B'\n",
        "v_bprim=[\n",
        "    [2],\n",
        "    [1],\n",
        "    [1]\n",
        "]\n",
        "t_v_bprim=multiplicacion(a_pri,v_bprim)\n",
        "print(\"[T(V)]B' =\")\n",
        "mostrar_matriz(t_v_bprim)\n",
        "print('\\n')"
      ],
      "metadata": {
        "colab": {
          "base_uri": "https://localhost:8080/"
        },
        "id": "Og_owWeCut5A",
        "outputId": "23eb4f31-58da-48f5-b2c2-1fd7c70fbe7c"
      },
      "execution_count": null,
      "outputs": [
        {
          "output_type": "stream",
          "name": "stdout",
          "text": [
            "P =\n",
            "[0.5, 0.5, 0.0]\n",
            "[0.5, 0.0, 0.5]\n",
            "[0.0, 0.5, 0.5]\n",
            "\n",
            "\n",
            "P-1 =\n",
            "[1.0, 1.0, -1.0]\n",
            "[1.0, -1.0, 1.0]\n",
            "[-1.0, 1.0, 1.0]\n",
            "\n",
            "\n",
            "A' =\n",
            "[0.25, -1.0, -1.25]\n",
            "[0.25, 2.0, -0.25]\n",
            "[1.25, 1.0, 3.75]\n",
            "\n",
            "\n",
            "[T(V)]B' =\n",
            "[-1.75]\n",
            "[2.25]\n",
            "[7.25]\n",
            "\n",
            "\n"
          ]
        }
      ]
    }
  ]
}